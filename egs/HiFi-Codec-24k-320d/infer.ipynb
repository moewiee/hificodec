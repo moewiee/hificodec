{
 "cells": [
  {
   "cell_type": "code",
   "execution_count": 2,
   "metadata": {},
   "outputs": [],
   "source": [
    "import sys\n",
    "\n",
    "sys.path.append('../../')\n",
    "import json\n",
    "import torchaudio\n",
    "\n",
    "import librosa\n",
    "import torch\n",
    "from academicodec.models.hificodec.vqvae import VQVAE\n",
    "from librosa.util import normalize"
   ]
  },
  {
   "cell_type": "code",
   "execution_count": 3,
   "metadata": {},
   "outputs": [],
   "source": [
    "config_path = './config_24k_320d.json'\n",
    "with open(config_path, 'r') as f:\n",
    "    config = json.load(f)\n",
    "    sample_rate = config['sampling_rate']"
   ]
  },
  {
   "cell_type": "code",
   "execution_count": 4,
   "metadata": {},
   "outputs": [
    {
     "name": "stdout",
     "output_type": "stream",
     "text": [
      "Init model and load weights\n"
     ]
    },
    {
     "name": "stderr",
     "output_type": "stream",
     "text": [
      "/home/ubuntu/miniconda3/envs/tts2/lib/python3.10/site-packages/torch/nn/utils/weight_norm.py:30: UserWarning: torch.nn.utils.weight_norm is deprecated in favor of torch.nn.utils.parametrizations.weight_norm.\n",
      "  warnings.warn(\"torch.nn.utils.weight_norm is deprecated in favor of torch.nn.utils.parametrizations.weight_norm.\")\n"
     ]
    },
    {
     "name": "stdout",
     "output_type": "stream",
     "text": [
      "Model ready\n"
     ]
    }
   ],
   "source": [
    "print(\"Init model and load weights\")\n",
    "model = VQVAE(\n",
    "    config_path,\n",
    "    ckpt_path=\"\",\n",
    "    with_encoder=True)\n",
    "model.cuda()\n",
    "model.eval()\n",
    "print(\"Model ready\")"
   ]
  },
  {
   "cell_type": "code",
   "execution_count": 5,
   "metadata": {},
   "outputs": [
    {
     "name": "stdout",
     "output_type": "stream",
     "text": [
      "wav.shape: (240000,)\n"
     ]
    }
   ],
   "source": [
    "wav_path = './sample.wav'\n",
    "\n",
    "wav, sr = librosa.load(wav_path, sr=sample_rate)\n",
    "print(\"wav.shape:\",wav.shape)\n",
    "assert sr == sample_rate\n",
    "\n",
    "wav = normalize(wav) * 0.95\n",
    "wav = torch.FloatTensor(wav).unsqueeze(0)\n",
    "wav = wav.to(torch.device('cuda'))"
   ]
  },
  {
   "cell_type": "code",
   "execution_count": 6,
   "metadata": {},
   "outputs": [
    {
     "name": "stdout",
     "output_type": "stream",
     "text": [
      "acoustic_token: \n",
      " tensor([[[ 61, 837, 643,  ...,   7, 858, 806],\n",
      "         [612, 837, 444,  ...,   7, 999, 806],\n",
      "         [612, 837, 333,  ..., 784, 147,  85],\n",
      "         ...,\n",
      "         [128, 837, 737,  ..., 753, 950,  85],\n",
      "         [986, 837, 737,  ...,  54, 183, 806],\n",
      "         [957, 162, 292,  ..., 224, 183, 361]]], device='cuda:0')\n",
      "acoustic_token.shape: torch.Size([1, 750, 8])\n",
      "acoustic_token.dtype: torch.int64\n"
     ]
    }
   ],
   "source": [
    "acoustic_token = model.encode(wav)\n",
    "\n",
    "print(\"acoustic_token:\", \"\\n\",acoustic_token)\n",
    "print(\"acoustic_token.shape:\",acoustic_token.shape)\n",
    "print(\"acoustic_token.dtype:\",acoustic_token.dtype)"
   ]
  },
  {
   "cell_type": "code",
   "execution_count": 18,
   "metadata": {},
   "outputs": [
    {
     "name": "stdout",
     "output_type": "stream",
     "text": [
      "torch.Size([1, 128, 750])\n",
      "torch.Size([1, 1, 240000])\n"
     ]
    }
   ],
   "source": [
    "quant_vector = model.encoder(wav.unsqueeze(1))\n",
    "print(quant_vector.shape)\n",
    "y_hat = model.generator(quant_vector)\n",
    "print(y_hat.shape)"
   ]
  },
  {
   "cell_type": "code",
   "execution_count": 19,
   "metadata": {},
   "outputs": [
    {
     "name": "stdout",
     "output_type": "stream",
     "text": [
      "torch.Size([1, 240000])\n"
     ]
    },
    {
     "name": "stderr",
     "output_type": "stream",
     "text": [
      "/tmp/ipykernel_1805445/3900361264.py:4: UserWarning: To copy construct from a tensor, it is recommended to use sourceTensor.clone().detach() or sourceTensor.clone().detach().requires_grad_(True), rather than torch.tensor(sourceTensor).\n",
      "  torchaudio.save(\"y_hat.wav\", torch.tensor(y_hat), sample_rate, channels_first=True)\n"
     ]
    },
    {
     "ename": "",
     "evalue": "",
     "output_type": "error",
     "traceback": [
      "\u001b[1;31mThe Kernel crashed while executing code in the current cell or a previous cell. \n",
      "\u001b[1;31mPlease review the code in the cell(s) to identify a possible cause of the failure. \n",
      "\u001b[1;31mClick <a href='https://aka.ms/vscodeJupyterKernelCrash'>here</a> for more info. \n",
      "\u001b[1;31mView Jupyter <a href='command:jupyter.viewOutput'>log</a> for further details."
     ]
    }
   ],
   "source": [
    "y_hat = y_hat.squeeze(0)\n",
    "y_hat = y_hat.cpu()\n",
    "print(y_hat.size())\n",
    "torchaudio.save(\"y_hat.wav\", torch.tensor(y_hat), sample_rate, channels_first=True)"
   ]
  },
  {
   "cell_type": "code",
   "execution_count": null,
   "metadata": {},
   "outputs": [],
   "source": []
  }
 ],
 "metadata": {
  "kernelspec": {
   "display_name": "Python 3 (ipykernel)",
   "language": "python",
   "name": "python3"
  },
  "language_info": {
   "codemirror_mode": {
    "name": "ipython",
    "version": 3
   },
   "file_extension": ".py",
   "mimetype": "text/x-python",
   "name": "python",
   "nbconvert_exporter": "python",
   "pygments_lexer": "ipython3",
   "version": "3.10.13"
  }
 },
 "nbformat": 4,
 "nbformat_minor": 2
}
